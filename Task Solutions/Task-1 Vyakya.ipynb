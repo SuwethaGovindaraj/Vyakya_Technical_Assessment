{
 "cells": [
  {
   "cell_type": "code",
   "execution_count": 2,
   "id": "ad5a49c7",
   "metadata": {},
   "outputs": [
    {
     "name": "stdout",
     "output_type": "stream",
     "text": [
      "1 2 3 4 5 6\n",
      "10 11 12 13 14 15\n",
      "[1, 2, 3, 4] , [10]\n"
     ]
    }
   ],
   "source": [
    "#VYAKYA TASK-1\n",
    "\n",
    "from itertools import combinations\n",
    "\n",
    "def findFirstSumPair(a, b):\n",
    "    a_len = len(a)\n",
    "    b_len = len(b)\n",
    "    \n",
    "    count = {}\n",
    "    \n",
    "    for i in range(1, len(a)+1):\n",
    "        for x in combinations(a, i):\n",
    "            sub_arr = x\n",
    "            sum_sub_arr = sum(sub_arr)\n",
    "            count[sum_sub_arr] = sub_arr\n",
    "            \n",
    "    for i in range(1, len(a)+1):\n",
    "        for x in combinations(b, i):\n",
    "            sub_arr = x\n",
    "            sum_sub_arr = sum(sub_arr)\n",
    "            if sum_sub_arr in count:\n",
    "                return list(count[sum_sub_arr]), list(sub_arr) \n",
    "\n",
    "\n",
    "\n",
    "a = tuple(map(int, input().split()))\n",
    "b = tuple(map(int, input().split()))\n",
    "\n",
    "pair = findFirstSumPair(a, b)\n",
    "\n",
    "if pair:\n",
    "    print(pair[0], \",\", pair[1])\n",
    "else:\n",
    "    print(\"0\")"
   ]
  },
  {
   "cell_type": "code",
   "execution_count": null,
   "id": "1a65eb18",
   "metadata": {},
   "outputs": [],
   "source": []
  }
 ],
 "metadata": {
  "kernelspec": {
   "display_name": "Python 3 (ipykernel)",
   "language": "python",
   "name": "python3"
  },
  "language_info": {
   "codemirror_mode": {
    "name": "ipython",
    "version": 3
   },
   "file_extension": ".py",
   "mimetype": "text/x-python",
   "name": "python",
   "nbconvert_exporter": "python",
   "pygments_lexer": "ipython3",
   "version": "3.9.7"
  }
 },
 "nbformat": 4,
 "nbformat_minor": 5
}
